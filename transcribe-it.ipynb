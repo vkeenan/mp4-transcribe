{
 "cells": [
  {
   "cell_type": "code",
   "execution_count": null,
   "metadata": {},
   "outputs": [],
   "source": [
    "import os\n",
    "import whisper\n",
    "\n",
    "def seconds_to_srt_time(seconds):\n",
    "    \"\"\"Converts seconds to SRT time format.\"\"\"\n",
    "    hours, remainder = divmod(seconds, 3600)\n",
    "    minutes, remainder = divmod(remainder, 60)\n",
    "    seconds, milliseconds = divmod(remainder, 1)\n",
    "    return f\"{int(hours):02}:{int(minutes):02}:{int(seconds):02},{int(milliseconds * 1000):03}\"\n",
    "\n",
    "def generate_srt_file(input_mp4_file, output_srt_file):\n",
    "    \"\"\"Generates an SRT file from the specified MP4 file.\n",
    "\n",
    "    Args:\n",
    "        input_mp4_file: The path to the MP4 file to transcribe.\n",
    "        output_srt_file: The path to the SRT file to create.\n",
    "    \"\"\"\n",
    "\n",
    "    # Load the Whisper model.\n",
    "    model = whisper.load_model(\"base\")\n",
    "\n",
    "    # Transcribe the audio file.\n",
    "    transcript = model.transcribe(input_mp4_file)\n",
    "\n",
    "    # Create the SRT file.\n",
    "    with open(output_srt_file, \"w\") as srt_file:\n",
    "        for index, segment in enumerate(transcript[\"segments\"]):\n",
    "            start_time = seconds_to_srt_time(segment['start'])\n",
    "            end_time = seconds_to_srt_time(segment['end'])\n",
    "            srt_file.write(f\"{index + 1}\\n\")\n",
    "            srt_file.write(f\"{start_time} --> {end_time}\\n\")\n",
    "            srt_file.write(f\"{segment['text']}\\n\\n\")\n"
   ]
  },
  {
   "cell_type": "code",
   "execution_count": null,
   "metadata": {},
   "outputs": [],
   "source": [
    "# Get the input and output directories.\n",
    "input_dir = os.path.join(os.getcwd(), \"input\")\n",
    "output_dir = os.path.join(os.getcwd(), \"output\")\n",
    "\n",
    "# List all of the MP4 files in the input directory.\n",
    "mp4_files = os.listdir(input_dir)\n",
    "\n",
    "# For each MP4 file, generate an SRT file and save it to the output directory.\n",
    "for mp4_file in mp4_files:\n",
    "  input_mp4_file = os.path.join(input_dir, mp4_file)\n",
    "  output_srt_file = os.path.join(output_dir, mp4_file + \".srt\")\n",
    "  generate_srt_file(input_mp4_file, output_srt_file)"
   ]
  }
 ],
 "metadata": {
  "kernelspec": {
   "display_name": "langchain",
   "language": "python",
   "name": "python3"
  },
  "language_info": {
   "codemirror_mode": {
    "name": "ipython",
    "version": 3
   },
   "file_extension": ".py",
   "mimetype": "text/x-python",
   "name": "python",
   "nbconvert_exporter": "python",
   "pygments_lexer": "ipython3",
   "version": "3.11.4"
  },
  "orig_nbformat": 4
 },
 "nbformat": 4,
 "nbformat_minor": 2
}
